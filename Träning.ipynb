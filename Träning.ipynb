{
 "cells": [
  {
   "cell_type": "markdown",
   "id": "b9f99e50",
   "metadata": {},
   "source": [
    "# f-strings"
   ]
  },
  {
   "cell_type": "code",
   "execution_count": 16,
   "id": "e8f28792",
   "metadata": {},
   "outputs": [
    {
     "name": "stdout",
     "output_type": "stream",
     "text": [
      "Hello my name is Mohi\n",
      "Mohi 26\n",
      "Hello Mohi nice to meet you, how old are you?\n",
      "Hello Mohi, you are 26, Welcome to python's world.\n"
     ]
    }
   ],
   "source": [
    "print (\"Hello my name is Mohi\")\n",
    "name = \"Mohi\"\n",
    "age = 26\n",
    "print(name , age)\n",
    "print(f\"Hello {name} nice to meet you, how old are you?\")\n",
    "Age_1 = (input(f\"how old are you?\"))\n",
    "print(f\"Hello {name}, you are {Age_1}, Welcome to python's world.\")"
   ]
  },
  {
   "cell_type": "markdown",
   "id": "decca59e",
   "metadata": {},
   "source": [
    "# if statements"
   ]
  },
  {
   "cell_type": "code",
   "execution_count": null,
   "id": "e9177d0b",
   "metadata": {},
   "outputs": [
    {
     "name": "stdout",
     "output_type": "stream",
     "text": [
      "Enjoy this scary movie\n"
     ]
    }
   ],
   "source": [
    "age = int(input(\"enter your age\"))\n",
    "age_limit = 15\n",
    "\n",
    "if age < age_limit:\n",
    "    print(\"sorry u are too young to attend this scary movie\")\n",
    "    print(\"watch cartoon instead\")\n",
    "else:\n",
    "    print(\"Enjoy this scary movie\")\n",
    "######################################################################\n",
    "age = 15\n",
    "height = 150\n",
    "\n",
    "if age > 11 and 130 > height < 210:\n",
    "    print (\"Welcome to roller coaster\")\n",
    "else:\n",
    "    print(\"come back when you fulfill requirements\")\n",
    "    "
   ]
  },
  {
   "cell_type": "markdown",
   "id": "ed2da9c7",
   "metadata": {},
   "source": [
    "## Type()Function"
   ]
  },
  {
   "cell_type": "code",
   "execution_count": null,
   "id": "f9ba8b5d",
   "metadata": {},
   "outputs": [
    {
     "name": "stdout",
     "output_type": "stream",
     "text": [
      "<class 'str'>\n",
      "<class 'int'>\n",
      "<class 'float'>\n",
      "<class 'bool'>\n",
      "26.0\n",
      "<class 'float'>\n",
      "7\n",
      "<class 'int'>\n",
      "1.0\n"
     ]
    }
   ],
   "source": [
    "name = \"Mohi\"\n",
    "age = 26\n",
    "floaT = 7.7\n",
    "student = True\n",
    "######################################################################\n",
    "print(type(name))\n",
    "print(type(age))\n",
    "print(type(floaT))\n",
    "print(type(student))\n",
    "######################################################################\n",
    "age = float(age)\n",
    "print(age)\n",
    "print(type(age))\n",
    "######################################################################\n",
    "floaT = int(floaT)\n",
    "print(floaT)\n",
    "print(type(floaT))\n",
    "#same for (str , boolean)\n",
    "######################################################################\n",
    "x = 2\n",
    "y = 2.0\n",
    "x = x / y\n",
    "print(x)\n",
    "######################################################################\n"
   ]
  },
  {
   "cell_type": "markdown",
   "id": "750853ee",
   "metadata": {},
   "source": [
    "# input"
   ]
  },
  {
   "cell_type": "code",
   "execution_count": null,
   "id": "3e750e0e",
   "metadata": {},
   "outputs": [
    {
     "name": "stdout",
     "output_type": "stream",
     "text": [
      "Mohi Hello dude :) \n",
      "you are 27 years old\n"
     ]
    }
   ],
   "source": [
    "name = input(\"Enter your name:\")\n",
    "age = int(input (\"Enter your age:\"))\n",
    "#same for float\n",
    "age = age + 1\n",
    "#age = int(age)\n",
    "print(f\"{name} Hello dude :) \")\n",
    "print(f\"you are {age} years old\")\n",
    "\n"
   ]
  },
  {
   "cell_type": "markdown",
   "id": "745a693d",
   "metadata": {},
   "source": [
    "# Mad libs game"
   ]
  },
  {
   "cell_type": "code",
   "execution_count": 24,
   "id": "227f642f",
   "metadata": {},
   "outputs": [
    {
     "name": "stdout",
     "output_type": "stream",
     "text": [
      "Today i went to a sus zoo.\n",
      "In an exhibit, I saw Mohi\n",
      "Mohi was berserk and screeching\n",
      "I was amazed\n"
     ]
    }
   ],
   "source": [
    "adjective1 = input(\"Enter an adjective: \")\n",
    "noun = input(\"Enter an noun: \")\n",
    "adjective2 = input(\"Enter an adjective: \")\n",
    "verb = input(\"Enter an verb: \")\n",
    "adjective3 = input(\"Enter an adjective: \")\n",
    "print(f\"Today i went to a {adjective1} zoo.\")\n",
    "print(f\"In an exhibit, I saw {noun}\")\n",
    "print(f\"{noun} was {adjective2} and {verb}ing\")\n",
    "print(f\"I was {adjective3}\")"
   ]
  },
  {
   "cell_type": "markdown",
   "id": "ed0e1bd2",
   "metadata": {},
   "source": [
    "# area calc"
   ]
  },
  {
   "cell_type": "code",
   "execution_count": 34,
   "id": "4cf75e44",
   "metadata": {},
   "outputs": [
    {
     "name": "stdout",
     "output_type": "stream",
     "text": [
      "the area is: 8.0cm^2\n",
      "the volume is: 48.0cm^3\n"
     ]
    }
   ],
   "source": [
    "length = float (input (\"Enter the length of a rectangle: \"))\n",
    "width = float (input (\"Enter the width of a rectangle: \"))\n",
    "height = float (input (\"Enter the height of a rectangle: \"))\n",
    "area = length * width\n",
    "print(f\"the area is: {area}cm^2\")\n",
    "volume = length * width * height\n",
    "print(f\"the volume is: {volume}cm^3\")\n"
   ]
  },
  {
   "cell_type": "code",
   "execution_count": null,
   "id": "3d029009",
   "metadata": {},
   "outputs": [],
   "source": [
    "length = 5\n",
    "width = 3\n",
    "area = length * width\n",
    "print(\"Area of rectangle:\", area)\n",
    "# Output: 15\n",
    "base = 6\n",
    "height = 4\n",
    "area = 0.5 * base * height\n",
    "print(\"Area of triangle:\", area)\n",
    "# Output: 12.0\n",
    "\n",
    "import math\n",
    "radius = 4\n",
    "area = math.pi * (radius ** 2)\n",
    "print(\"Area of circle:\", area)\n",
    "# Output: 50.265...\n",
    "\n"
   ]
  },
  {
   "cell_type": "code",
   "execution_count": null,
   "id": "32d0120c",
   "metadata": {},
   "outputs": [],
   "source": [
    "import time\n",
    "print(\"Loading...\", end=\"\", flush=True)\n",
    "time.sleep(1)\n",
    "print(\" Done!\")"
   ]
  }
 ],
 "metadata": {
  "kernelspec": {
   "display_name": "PY_Mohi_Shamdin_DE25_00",
   "language": "python",
   "name": "python3"
  },
  "language_info": {
   "codemirror_mode": {
    "name": "ipython",
    "version": 3
   },
   "file_extension": ".py",
   "mimetype": "text/x-python",
   "name": "python",
   "nbconvert_exporter": "python",
   "pygments_lexer": "ipython3",
   "version": "3.12.10"
  }
 },
 "nbformat": 4,
 "nbformat_minor": 5
}
