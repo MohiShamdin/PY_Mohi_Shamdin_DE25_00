{
 "cells": [
  {
   "cell_type": "markdown",
   "id": "1c8d9161",
   "metadata": {},
   "source": [
    "# Start\n",
    "## Första exercise _0"
   ]
  },
  {
   "cell_type": "code",
   "execution_count": 1,
   "id": "27de8ca5",
   "metadata": {},
   "outputs": [
    {
     "name": "stdout",
     "output_type": "stream",
     "text": [
      "Hello World\n"
     ]
    },
    {
     "data": {
      "text/plain": [
       "(str, int, float, tuple)"
      ]
     },
     "execution_count": 1,
     "metadata": {},
     "output_type": "execute_result"
    }
   ],
   "source": [
    "# Veriabels \n",
    "print(\"Hello World\")\n",
    "\n",
    "name = \"Mohi\" #str\n",
    "age = 26 #int\n",
    "Weight = 74.9 #float\n",
    "_bool = False , True #bool\n",
    "type(name) , type(age) , type(Weight) , type(_bool) \n",
    "\n"
   ]
  },
  {
   "cell_type": "markdown",
   "id": "73254b64",
   "metadata": {},
   "source": [
    "# Teoretiska övningar\n",
    "\n",
    "## a) Vad är skillnaden mellan git och github?\n",
    "Git är ett versionshanteringssystem (som installeras  lokalt på datorn). Det används via terminalen för att spara ändringar i kod, gå tillbaka till tidigare versioner, samarbeta i projekt osv.\n",
    "\n",
    "GitHub är en webbplattform (i molnet) där du kan lagra Git-projekt, samarbeta med andra, visa upp kod och dela projekt. GitHub använder Git i bakgrunden men är alltså inte samma sak.\n",
    "\n",
    "Skillnaden mellan Git och GitHub är att Git är ett lokalt versionshanteringssystem som används via terminal för att hantera kodändringar, medan GitHub är en molnbaserad plattform där man kan lagra sina Git-projekt, samarbeta med andra och presentera sitt arbete.\n",
    "\n",
    "\n",
    "## b) Vad är syftet med .gitignore-filen?\n",
    ".gitignore används för att säga åt Git att ignorera vissa filer/mappar så de inte laddas upp till GitHub.\n",
    "exemple om man har ett lösenord som man inte vill skicka till github så använder man .gitignore för att ignorera att clona. \n",
    "\n",
    "\n",
    "\n",
    "## c) Varför är det en bra idé att arbeta med git och github?\n",
    "Det är en bra idé att arbeta med Git och GitHub eftersom Git gör det möjligt att spara och hantera olika versioner av koden lokalt, medan GitHub gör det lätt att samarbeta, lagra projekt i molnet och visa upp sitt arbete."
   ]
  },
  {
   "cell_type": "markdown",
   "id": "5ff76145",
   "metadata": {},
   "source": [
    "## Glossary\n",
    "\n",
    "| terminology     | explanation |\n",
    "| --------------- | ----------- |\n",
    "| git             | Lokalt versionshanteringssystem för kod. |\n",
    "| github          | Molnplattform för att lagra och dela Git-projekt. |\n",
    "| version control | Spara och hantera olika versioner av filer/kod. |\n",
    "| backup          | Säkerhetskopia av filer/projekt. |\n",
    "| gitignore       | Fil som ignorerar valda filer/mappar i Git. |\n",
    "| commit          | Spara en ny version av projektet med meddelande. |\n",
    "| pull            | Hämta senaste ändringar från GitHub. |\n",
    "| clone           | Kopiera ett repository från GitHub till datorn. |\n",
    "| cd              | Change directory (gå in i en mapp). |\n",
    "| ls              | Lista filer och mappar i aktuell mapp. |\n",
    "| cd ..           | Gå tillbaka en nivå i mappstrukturen. |"
   ]
  }
 ],
 "metadata": {
  "kernelspec": {
   "display_name": "PY_Mohi_Shamdin_DE25_00",
   "language": "python",
   "name": "python3"
  },
  "language_info": {
   "codemirror_mode": {
    "name": "ipython",
    "version": 3
   },
   "file_extension": ".py",
   "mimetype": "text/x-python",
   "name": "python",
   "nbconvert_exporter": "python",
   "pygments_lexer": "ipython3",
   "version": "3.12.10"
  }
 },
 "nbformat": 4,
 "nbformat_minor": 5
}
