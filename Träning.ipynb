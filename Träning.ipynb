{
 "cells": [
  {
   "cell_type": "markdown",
   "id": "b9f99e50",
   "metadata": {},
   "source": [
    "# f-strings"
   ]
  },
  {
   "cell_type": "code",
   "execution_count": null,
   "id": "e8f28792",
   "metadata": {},
   "outputs": [],
   "source": [
    "print (\"Hello my name is Mohi\")\n",
    "name = \"Mohi\"\n",
    "age = 26\n",
    "print(name , age)\n",
    "print(f\"Hello {name} nice to meet you, how old are you?\")\n",
    "Age_1 = (input(f\"how old are you?\"))\n",
    "print(f\"Hello {name}, you are {Age_1}, Welcome to python's world.\")"
   ]
  },
  {
   "cell_type": "markdown",
   "id": "7dff8740",
   "metadata": {},
   "source": [
    "## Useful string methods"
   ]
  },
  {
   "cell_type": "code",
   "execution_count": null,
   "id": "3674ef03",
   "metadata": {},
   "outputs": [],
   "source": [
    "name = input (\"Enter your full name: \")\n",
    "phone_number = input(\"Enter your phone number: \")\n",
    "#result = len(name)          # Räknar antal tecken i strängen\n",
    "#result = name.find(\"\")      # Söker efter en delsträng från vänster till höger  returnerar första matchningens index\n",
    "#esult = name.rfind(\"\")     # Söker efter en delsträng från höger till vänster  returnerar sista matchningens index\n",
    "#result = name.capitalize()  # Gör första bokstaven i strängen stor, alla andra små\n",
    "#result = name.upper()       # Gör hela strängen till stora bokstäver\n",
    "#result = name.lower()       # Gör hela strängen till små bokstäver\n",
    "#result = name.isdigit()     # Kollar om strängen består enbart av siffror  True/False\n",
    "result = name.isalpha()     # Kollar om strängen består enbart av bokstäver  True/False\n",
    "phone_number = phone_number.count(\"-\") # Räknar hur många gånger tecknet (eller delsträngen) \" \" finns i texten\n",
    "phone_number = phone_number.replace(\"-\", \" \") # Ersätter alla förekomster av \"x\" med \"y\"\n",
    "\n",
    "\n",
    "print(result)"
   ]
  },
  {
   "cell_type": "markdown",
   "id": "5ac1838d",
   "metadata": {},
   "source": [
    "## Validate user input exercise\n",
    "## 1. Username is no more than 12 characters\n",
    "## 2. Username must not contaion spaces\n",
    "## 3. Username must not contain digits"
   ]
  },
  {
   "cell_type": "code",
   "execution_count": null,
   "id": "c69ac661",
   "metadata": {},
   "outputs": [],
   "source": [
    "username = input(\"Enter a username: \")\n",
    "if len(username) > 12:\n",
    "    print(\"your username can't be more than 12 characters\")\n",
    "elif not username.find(\" \") == -1:\n",
    "    print(\"your username can't contain spaces\")\n",
    "elif not username.isalpha():\n",
    "    print(\"your username can't contain numbers\")\n",
    "else: \n",
    "    print(f\"Welcome {username}\")"
   ]
  },
  {
   "cell_type": "markdown",
   "id": "decca59e",
   "metadata": {},
   "source": [
    "# if statements"
   ]
  },
  {
   "cell_type": "code",
   "execution_count": null,
   "id": "e9177d0b",
   "metadata": {},
   "outputs": [],
   "source": [
    "age = int(input(\"enter your age\"))\n",
    "age_limit = 15\n",
    "\n",
    "if age < age_limit:\n",
    "    print(\"sorry u are too young to attend this scary movie\")\n",
    "    print(\"watch cartoon instead\")\n",
    "else:\n",
    "    print(\"Enjoy this scary movie\")\n",
    "######################################################################\n",
    "age = 15\n",
    "height = 150\n",
    "\n",
    "if age > 11 and 130 > height < 210:\n",
    "    print (\"Welcome to roller coaster\")\n",
    "else:\n",
    "    print(\"come back when you fulfill requirements\")\n",
    "    "
   ]
  },
  {
   "cell_type": "markdown",
   "id": "ed2da9c7",
   "metadata": {},
   "source": [
    "## Type() Function"
   ]
  },
  {
   "cell_type": "code",
   "execution_count": null,
   "id": "f9ba8b5d",
   "metadata": {},
   "outputs": [],
   "source": [
    "name = \"Mohi\"\n",
    "age = 26\n",
    "floaT = 7.7\n",
    "student = True\n",
    "######################################################################\n",
    "print(type(name))\n",
    "print(type(age))\n",
    "print(type(floaT))\n",
    "print(type(student))\n",
    "######################################################################\n",
    "age = float(age)\n",
    "print(age)\n",
    "print(type(age))\n",
    "######################################################################\n",
    "floaT = int(floaT)\n",
    "print(floaT)\n",
    "print(type(floaT))\n",
    "#same for (str , boolean)\n",
    "######################################################################\n",
    "x = 2\n",
    "y = 2.0\n",
    "x = x / y\n",
    "print(x)\n",
    "######################################################################\n"
   ]
  },
  {
   "cell_type": "markdown",
   "id": "750853ee",
   "metadata": {},
   "source": [
    "# Input"
   ]
  },
  {
   "cell_type": "code",
   "execution_count": null,
   "id": "3e750e0e",
   "metadata": {},
   "outputs": [],
   "source": [
    "name = input(\"Enter your name:\")\n",
    "age = int(input (\"Enter your age:\"))\n",
    "#same for float\n",
    "age = age + 1\n",
    "#age = int(age)\n",
    "print(f\"{name} Hello dude :) \")\n",
    "print(f\"you are {age} years old\")\n",
    "\n"
   ]
  },
  {
   "cell_type": "markdown",
   "id": "745a693d",
   "metadata": {},
   "source": [
    "# Mad libs game"
   ]
  },
  {
   "cell_type": "code",
   "execution_count": null,
   "id": "227f642f",
   "metadata": {},
   "outputs": [],
   "source": [
    "adjective1 = input(\"Enter an adjective: \")\n",
    "noun = input(\"Enter an noun: \")\n",
    "adjective2 = input(\"Enter an adjective: \")\n",
    "verb = input(\"Enter an verb: \")\n",
    "adjective3 = input(\"Enter an adjective: \")\n",
    "print(f\"Today i went to a {adjective1} zoo.\")\n",
    "print(f\"In an exhibit, I saw {noun}\")\n",
    "print(f\"{noun} was {adjective2} and {verb}ing\")\n",
    "print(f\"I was {adjective3}\")"
   ]
  },
  {
   "cell_type": "markdown",
   "id": "a6719ccf",
   "metadata": {},
   "source": [
    "# Shopping cart programs"
   ]
  },
  {
   "cell_type": "code",
   "execution_count": null,
   "id": "6ceae841",
   "metadata": {},
   "outputs": [],
   "source": [
    "items = input(\"What items would you like to buy?: \")\n",
    "price = float (input(\"what is the price?:\"))\n",
    "quantity = int (input(\"How many would you like?:\"))\n",
    "total = price * quantity\n",
    "print(f\"You have bought {quantity} x {items}/s\")\n",
    "print(f\"your total price is: ${round(total, 2)}\")"
   ]
  },
  {
   "cell_type": "markdown",
   "id": "8e3b5ca7",
   "metadata": {},
   "source": [
    "# Math in python\n",
    "## arithmetic operators"
   ]
  },
  {
   "cell_type": "code",
   "execution_count": null,
   "id": "ebafda76",
   "metadata": {},
   "outputs": [],
   "source": [
    "boys = 5\n",
    "#boys = boys + 1\n",
    "boys += 1         #addition\n",
    "#boys = boys - 1\n",
    "#boys -= 1         #subtraction\n",
    "#boys = boys * 1\n",
    "#boys *= 1         #multipication\n",
    "#boys = boys / 1\n",
    "#boys /= 1         #divion\n",
    "boys = boys ** 2\n",
    "boys **= 2         #exponentiation\n",
    "remainder = boys % 2          #modulus\n",
    "\n",
    "print(boys)"
   ]
  },
  {
   "cell_type": "markdown",
   "id": "21b4deb6",
   "metadata": {},
   "source": [
    "## Build in function"
   ]
  },
  {
   "cell_type": "code",
   "execution_count": null,
   "id": "26d27ef4",
   "metadata": {},
   "outputs": [],
   "source": [
    "x = 3.14\n",
    "y = 4\n",
    "z = 5\n",
    " \n",
    "#result = round (x , 2) # ta bort några av dicimal (du väljer hur många)\n",
    "#result = abs (y) # ta bort minus tecken (-)\n",
    "#result = pow (4,3) 4x4x4\n",
    "#result = max (x,y,z) # visar högsta nummer = (5)\n",
    "result = min (x,y,z) # visar minsta nummer  = (3.14)\n",
    "print(result)"
   ]
  },
  {
   "cell_type": "markdown",
   "id": "41dad3df",
   "metadata": {},
   "source": [
    "## Math module"
   ]
  },
  {
   "cell_type": "code",
   "execution_count": null,
   "id": "06b007fb",
   "metadata": {},
   "outputs": [],
   "source": [
    "import math\n",
    "\n",
    "math.py\n",
    "print(math.pi) # pi is 3.14\n",
    "print(math.e) # e is 2.71 (exponential constant)\n",
    "x = 9.1\n",
    "result = math.sqrt(x) # square root\n",
    "result = math.ceil(x) # output will be 10 (round a floationg number up)\n",
    "result = math.floor(x) # output will be 9 (round a floationg number down)\n",
    "print(result)"
   ]
  },
  {
   "cell_type": "markdown",
   "id": "777f8eb0",
   "metadata": {},
   "source": [
    "## Area calc"
   ]
  },
  {
   "cell_type": "code",
   "execution_count": null,
   "id": "8b4970ae",
   "metadata": {},
   "outputs": [],
   "source": [
    "length = float (input (\"Enter the length of a rectangle: \"))\n",
    "width = float (input (\"Enter the width of a rectangle: \"))\n",
    "height = float (input (\"Enter the height of a rectangle: \"))\n",
    "area = length * width\n",
    "print(f\"the area is: {area}cm^2\")\n",
    "# Extra\n",
    "volume = length * width * height\n",
    "print(f\"the volume is: {volume}cm^3\")"
   ]
  },
  {
   "cell_type": "markdown",
   "id": "eb4c8649",
   "metadata": {},
   "source": [
    "## Rectangle calc"
   ]
  },
  {
   "cell_type": "code",
   "execution_count": null,
   "id": "66de5d83",
   "metadata": {},
   "outputs": [],
   "source": [
    "length = 5\n",
    "width = 3\n",
    "area = length * width\n",
    "print(\"Area of rectangle:\", area)\n",
    "# Output: 15"
   ]
  },
  {
   "cell_type": "markdown",
   "id": "95cc5347",
   "metadata": {},
   "source": [
    "## Triangle clac"
   ]
  },
  {
   "cell_type": "code",
   "execution_count": null,
   "id": "400786c9",
   "metadata": {},
   "outputs": [],
   "source": [
    "base = 6\n",
    "height = 4\n",
    "area = 0.5 * base * height\n",
    "print(\"Area of triangle:\", area)\n",
    "# Output: 12.0"
   ]
  },
  {
   "cell_type": "markdown",
   "id": "18d117a0",
   "metadata": {},
   "source": [
    "## Circumference of a circle"
   ]
  },
  {
   "cell_type": "code",
   "execution_count": null,
   "id": "4dcc01a4",
   "metadata": {},
   "outputs": [],
   "source": [
    "import math\n",
    "radius = float(input(\"enter tthe radius of a circle: \"))\n",
    "circumference = 2 * math.pi * radius\n",
    "print(f\"the circumference is: {round(circumference)}cm\")"
   ]
  },
  {
   "cell_type": "markdown",
   "id": "da4b66a0",
   "metadata": {},
   "source": [
    "## Radius clac"
   ]
  },
  {
   "cell_type": "code",
   "execution_count": null,
   "id": "a35cda57",
   "metadata": {},
   "outputs": [],
   "source": [
    "import math\n",
    "radius = 4\n",
    "area = math.pi * (radius ** 2)\n",
    "print(\"Area of circle:\", area)\n",
    "# Output: 50.265..."
   ]
  },
  {
   "cell_type": "markdown",
   "id": "ed8b7ae4",
   "metadata": {},
   "source": [
    "## Area of a circle"
   ]
  },
  {
   "cell_type": "code",
   "execution_count": null,
   "id": "8a9ae3b5",
   "metadata": {},
   "outputs": [],
   "source": [
    "import math\n",
    "\n",
    "radius = float(input(\"enter the radius of a circle: \"))\n",
    "area = math.pi * pow(radius , 2)\n",
    "print(f\"the area of the circle is : {round(area , 2)}cm^2\")"
   ]
  },
  {
   "cell_type": "markdown",
   "id": "4b1cd5f9",
   "metadata": {},
   "source": [
    "## Hypotenuse of a right triangle"
   ]
  },
  {
   "cell_type": "code",
   "execution_count": null,
   "id": "13c4ecb3",
   "metadata": {},
   "outputs": [],
   "source": [
    "import math\n",
    "a = float (input (\"Enter the length of side A:\"))\n",
    "b = float (input (\"Enter the length of side B:\"))\n",
    "c = math.sqrt(a**2 + b**2)\n",
    "print(f\"side C = {c}\")"
   ]
  },
  {
   "cell_type": "code",
   "execution_count": null,
   "id": "32d0120c",
   "metadata": {},
   "outputs": [],
   "source": [
    "import time\n",
    "print(\"Loading...\", end=\"\", flush=True)\n",
    "time.sleep(2) #den räknas till (1) sekunder\n",
    "print(\" Done!\")"
   ]
  },
  {
   "cell_type": "markdown",
   "id": "f01befe0",
   "metadata": {},
   "source": [
    "# If statements\n"
   ]
  },
  {
   "cell_type": "code",
   "execution_count": null,
   "id": "e4da9ecc",
   "metadata": {},
   "outputs": [],
   "source": [
    "age = int(input(\"Enter your age: \"))\n",
    "\n",
    "if age >= 100:\n",
    "    print(\"You are too old to sign up\")\n",
    "elif age < 0:\n",
    "    print(\"you haven't born yet!\")\n",
    "elif age >= 18:\n",
    "    print(\"you are now signed up!\")\n",
    "else:\n",
    "    print(\"you must be 18+ to sign up\")\n"
   ]
  },
  {
   "cell_type": "code",
   "execution_count": null,
   "id": "2862d257",
   "metadata": {},
   "outputs": [],
   "source": [
    "name = input(\"Enter your name: \")\n",
    "\n",
    "if name == \"\":\n",
    "    print(\" You did not type in your name\")\n",
    "else:\n",
    "    print(f\"Hello {name}\")"
   ]
  },
  {
   "cell_type": "code",
   "execution_count": null,
   "id": "b126f709",
   "metadata": {},
   "outputs": [],
   "source": [
    "response = input(\"what you like food? (Y/N):\")\n",
    "if response == \"Y\":\n",
    "    print(\"Have som food!\")\n",
    "else:\n",
    "    print(\"No food for you!\")"
   ]
  },
  {
   "cell_type": "code",
   "execution_count": null,
   "id": "69b3a8eb",
   "metadata": {},
   "outputs": [],
   "source": [
    "for_sale = True\n",
    "\n",
    "if for_sale:\n",
    "    print(\"This item is for sale!\")\n",
    "else:\n",
    "    print(\"This item is not for sale\")"
   ]
  },
  {
   "cell_type": "markdown",
   "id": "d5456939",
   "metadata": {},
   "source": [
    "## Python calculator"
   ]
  },
  {
   "cell_type": "code",
   "execution_count": null,
   "id": "c7448974",
   "metadata": {},
   "outputs": [],
   "source": [
    "operator = input(\"Enter an operator (+ - * /)\")\n",
    "num_1 = float(input(\"Enter the 1st number: \"))\n",
    "num_2 = float(input(\"Enter the 2st number: \"))\n",
    "\n",
    "if operator == \"+\":\n",
    "    result = num_1 + num_2\n",
    "    print (round(result, 3))\n",
    "elif operator ==\"-\":\n",
    "    result = num_1 - num_2\n",
    "    print (round(result, 3))\n",
    "elif operator ==\"*\":\n",
    "    result = num_1 * num_2\n",
    "    print (round(result, 3))\n",
    "elif operator ==\"/\":\n",
    "    result = num_1 / num_2\n",
    "    print (round(result, 3))\n",
    "else:\n",
    "    print(f\"{operator} is not a valid operator \")\n"
   ]
  },
  {
   "cell_type": "markdown",
   "id": "0435d38b",
   "metadata": {},
   "source": [
    "## Temperature program\n",
    "(°C x 9/5) + 32 = °F\n",
    "° = ALT + 0176\n"
   ]
  },
  {
   "cell_type": "code",
   "execution_count": null,
   "id": "d8db21e0",
   "metadata": {},
   "outputs": [],
   "source": [
    "unit = input(\"Is this temperature in Celsius of Fahrenheit (C/F): \")\n",
    "temp = float(input(\"Enter the temperature: \"))\n",
    "\n",
    "if unit == \"C\":\n",
    "    temp = round((9 * temp) / 5 + 32, 1 )\n",
    "    print(f\"The temperature in Fahrenheit is: {temp}°F\")\n",
    "elif unit ==\"F\":\n",
    "    temp = round((temp -32) * 5/9, 1)\n",
    "    print(f\"The temperature in Celsius is: {temp}°C\")\n",
    "else:\n",
    "    print(f\"{unit} is an invalid unit of measurement\")"
   ]
  },
  {
   "cell_type": "markdown",
   "id": "804688e1",
   "metadata": {},
   "source": [
    "## Conditional expression\n",
    "print (X) if condition else (Y)"
   ]
  },
  {
   "cell_type": "code",
   "execution_count": null,
   "id": "1f7a2158",
   "metadata": {},
   "outputs": [],
   "source": [
    "num = 5\n",
    "a = 6\n",
    "b = 7\n",
    "age = 13\n",
    "temp = 20\n",
    "user_role = \"guest\"\n",
    "\n",
    "print (\"positive\" if num > 0 else \"negative\")\n",
    "result = print (\"EVEN\" if num % 2 ==0 else \"ODD\")\n",
    "max_num = print (a if a < b else b)\n",
    "min_num = print (a if a > b else b)\n",
    "status = print (\"Adule\" if age >= 18 else \"Child\")\n",
    "Weather = print (\"Hot\" if temp > 20 else \"Cold\")\n",
    "access_level = print (\"Full Access\" if  user_role == \"admin\" else \"Limited Access\")\n"
   ]
  },
  {
   "cell_type": "markdown",
   "id": "378e4220",
   "metadata": {},
   "source": [
    "# Logical operators\n",
    "and , or , not"
   ]
  },
  {
   "cell_type": "code",
   "execution_count": null,
   "id": "5a911fa9",
   "metadata": {},
   "outputs": [],
   "source": [
    "temp = 25\n",
    "if temo > 0 and temp < 30:\n",
    "    print(\"The temp is good\")\n",
    "else:\n",
    "    print(\"The temp is bad\")"
   ]
  },
  {
   "cell_type": "code",
   "execution_count": null,
   "id": "31f215cb",
   "metadata": {},
   "outputs": [],
   "source": [
    "temp = 25\n",
    "if temp <= 0 or temp >= 30:\n",
    "    print(\"The temp is bad\")\n",
    "else:\n",
    "    print(\"The temp is good\")"
   ]
  },
  {
   "cell_type": "code",
   "execution_count": null,
   "id": "9028d061",
   "metadata": {},
   "outputs": [],
   "source": [
    "sunny = True\n",
    "if not sunny:\n",
    "    print(\"It's cloudy outside\")\n",
    "else:\n",
    "    print(\"It's sunny outside\")    "
   ]
  }
 ],
 "metadata": {
  "kernelspec": {
   "display_name": ".venv",
   "language": "python",
   "name": "python3"
  },
  "language_info": {
   "codemirror_mode": {
    "name": "ipython",
    "version": 3
   },
   "file_extension": ".py",
   "mimetype": "text/x-python",
   "name": "python",
   "nbconvert_exporter": "python",
   "pygments_lexer": "ipython3",
   "version": "3.12.10"
  }
 },
 "nbformat": 4,
 "nbformat_minor": 5
}
