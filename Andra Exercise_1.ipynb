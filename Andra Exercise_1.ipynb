{
 "cells": [
  {
   "cell_type": "markdown",
   "id": "6bad39ec",
   "metadata": {},
   "source": [
    "# Andra exercise _1 \n",
    "## Pythagorean theorem ( a^2 + b^2 = c^2)\n",
    "a) A right angled triangle has the catheti: a = 3 and b = 4 length units. Compute the hypothenuse of the triangle. \n",
    "\n",
    "b) A right angled triangle has hypothenuse c = 7.0 and a cathetus a = 5.0 length units. Compute the other cathetus and round to one decimal."
   ]
  },
  {
   "cell_type": "code",
   "execution_count": 15,
   "id": "857b1e07",
   "metadata": {},
   "outputs": [
    {
     "name": "stdout",
     "output_type": "stream",
     "text": [
      "the hypotenuse is: 5cm\n",
      "the hypotenuse is: 4.9cm\n"
     ]
    }
   ],
   "source": [
    "#A\n",
    "import math\n",
    "\n",
    "a = 3\n",
    "b = 4\n",
    "c = math.sqrt(a**2 + b**2)\n",
    "print (f\"the hypotenuse is: {int(c)}cm\")\n",
    "\n",
    "#B\n",
    "c = 7\n",
    "a = 5\n",
    "b = math.sqrt(c**2 - a**2)\n",
    "print (f\"the hypotenuse is: {round(b , 2)}cm\")\n"
   ]
  },
  {
   "cell_type": "markdown",
   "id": "ea839565",
   "metadata": {},
   "source": [
    "## Classification accuracy (Accuracy = antal rätt / totalt antal)\n",
    "A machine learning algorithm has been trained to predict whether or not it would rain the next day. Out of 365 predictions, it got 300 correct, compute the accuracy of this model."
   ]
  },
  {
   "cell_type": "code",
   "execution_count": 20,
   "id": "82865147",
   "metadata": {},
   "outputs": [
    {
     "name": "stdout",
     "output_type": "stream",
     "text": [
      "noggranheten är: 82.192%\n"
     ]
    }
   ],
   "source": [
    "antal_rätt = 300\n",
    "totalt_antal = 365\n",
    "accuracy = (antal_rätt / totalt_antal) * 100\n",
    "print(f\"noggranheten är: {round(accuracy , 3)}%\")"
   ]
  },
  {
   "cell_type": "markdown",
   "id": "06fd6cf0",
   "metadata": {},
   "source": [
    "## Classification accuracy\n",
    "A machine learning model has been trained to detect fire. Here is the result of its predictions:\n",
    "Is this a good model? Why? Why not?\n"
   ]
  },
  {
   "cell_type": "code",
   "execution_count": null,
   "id": "dd43fcaf",
   "metadata": {},
   "outputs": [
    {
     "name": "stdout",
     "output_type": "stream",
     "text": [
      "svaret av TP och TN är:  987\n",
      "svaret av alla förutsägelser är:  1000\n",
      "noggranhet är:  98.7 %\n",
      "Is this a good model? Why? Why not? Jag tycker att modeln visade 98.7% är missvisande eftersom modellen missar många bränder (högt FN),Kan vi ens få 100%? Nej, i praktiken nästan omöjligt på nya data eftersom verkligheten är osäker och data innehåller brus. \n"
     ]
    }
   ],
   "source": [
    "TP = 2 #True Posutuve\n",
    "TN = 985 #True Negative\n",
    "FP = 2 #False Positive\n",
    "FN = 11 # False Negative\n",
    "täljaren = (TP + TN)\n",
    "närmaren = ( TP + TN + FP + FN)\n",
    "svar = ( täljaren / närmaren) *100\n",
    "print (\"svaret av TP och TN är: \" , täljaren)\n",
    "print (\"svaret av alla förutsägelser är: \" , närmaren)\n",
    "print (\"noggranhet är: \" , svar , \"%\") \n",
    "# Is this a good model? Why? Why not?\n",
    "frågan = \"Is this a good model? Why? Why not?\"\n",
    "svaret = (f\"{frågan} Jag tycker att modeln visade 98.7% är missvisande eftersom modellen missar många bränder (högt FN),\"\n",
    "          \"Kan vi ens få 100%? \"\n",
    "          \"Nej, i praktiken nästan omöjligt på nya data eftersom verkligheten är osäker och data innehåller brus. \")\n",
    "print(svaret)\n"
   ]
  },
  {
   "cell_type": "markdown",
   "id": "9c7788a6",
   "metadata": {},
   "source": [
    "## File metadata - format print\n",
    "There is a file with the following metadata:\n",
    "name: orders_data.csv\n",
    "file size: 3.14mb\n",
    "modified 2024\n",
    "Create variables for each of them and print out the following to the screen\n",
    "=== File metadata ===\n",
    "Filename: sales_data.csv\n",
    "Size (MB): 24.7\n",
    "Last Modified Year: 2023"
   ]
  },
  {
   "cell_type": "code",
   "execution_count": 42,
   "id": "d8d6d988",
   "metadata": {},
   "outputs": [
    {
     "name": "stdout",
     "output_type": "stream",
     "text": [
      "=== File metadata ===\n",
      "Filename: sales_data.csv\n",
      "Size (MB): 24.7\n",
      "Last Modified Year: 2023\n"
     ]
    }
   ],
   "source": [
    "filename = (\"sales_data.csv\")\n",
    "size_mb = 24.7\n",
    "modified_year = 2023\n",
    "print(\"=== File metadata ===\")\n",
    "print(f\"Filename: {filename}\")\n",
    "print(f\"Size (MB): {size_mb}\")\n",
    "print(f\"Last Modified Year: {modified_year}\")"
   ]
  },
  {
   "cell_type": "markdown",
   "id": "980bb402",
   "metadata": {},
   "source": [
    "## Unit converter - inch to cm \n",
    "Screen sizes are defined using inches for example my computer has 15'' and it corresponds to the diagonal of the screen. Let the user type in a value in inches and output the result in centimeters."
   ]
  },
  {
   "cell_type": "code",
   "execution_count": 43,
   "id": "51509fca",
   "metadata": {},
   "outputs": [
    {
     "name": "stdout",
     "output_type": "stream",
     "text": [
      "din skärm är:38.1cm \n"
     ]
    }
   ],
   "source": [
    "inches = float(input(\"Skriv in storleken i tum: \"))\n",
    "cm = inches * 2.54\n",
    "print(f\"din skärm är:{cm}cm \")"
   ]
  },
  {
   "cell_type": "markdown",
   "id": "990c0f18",
   "metadata": {},
   "source": [
    "## Count characters in a text\n",
    "Create a program to let a user input a text, count the number of characters and print it out to the screen.\n",
    "Space can also be counted as a character here.\n",
    "Hint: len() function"
   ]
  },
  {
   "cell_type": "code",
   "execution_count": 44,
   "id": "dbc3e611",
   "metadata": {},
   "outputs": [
    {
     "name": "stdout",
     "output_type": "stream",
     "text": [
      "antal tecken som du har skrivit är: 3\n"
     ]
    }
   ],
   "source": [
    "text = input(\"skriv något\")\n",
    "antal_tecken = len(text)\n",
    "print(f\"antal tecken som du har skrivit är: {antal_tecken}\")"
   ]
  },
  {
   "cell_type": "markdown",
   "id": "6534726e",
   "metadata": {},
   "source": [
    "## Data types\n",
    "Create variables of type bool, int, float, str and list. Then use type function and check each variables type."
   ]
  },
  {
   "cell_type": "code",
   "execution_count": 64,
   "id": "6945b5c1",
   "metadata": {},
   "outputs": [
    {
     "name": "stdout",
     "output_type": "stream",
     "text": [
      "name = Mohi has type <class 'str'>\n",
      "number/s = 7 has type <class 'int'>\n",
      "number/s = 7.7 has type <class 'float'>\n",
      "number/s = [1, 2, 3, 4, 5] has type <class 'list'>\n",
      "adjuctive = True has type <class 'bool'>\n",
      "<class 'int'>\n",
      "<class 'float'>\n",
      "<class 'bool'>\n",
      "<class 'list'>\n"
     ]
    }
   ],
   "source": [
    "str_1 = \"Mohi\"\n",
    "int_1 = 7\n",
    "float_1 = 7.7\n",
    "list_1 = [1,2,3,4,5]\n",
    "bool_1 = True\n",
    "print (f\"name = {str_1} has type {type(str_1)}\")\n",
    "print(f\"number/s = {int_1} has type {type(int_1)}\")\n",
    "print (f\"number/s = {float_1} has type {type(float_1)}\")\n",
    "print (f\"number/s = {list_1} has type {type(list_1)}\")\n",
    "print (f\"adjuctive = {bool_1} has type {type(bool_1)}\")\n",
    "# Eller\n",
    "print(type(int_1))\n",
    "print(type(float_1))\n",
    "print(type(bool_1))\n",
    "print(type(list_1))"
   ]
  },
  {
   "cell_type": "markdown",
   "id": "5696394f",
   "metadata": {},
   "source": [
    "## Theory\n",
    "#### a) What is the difference between input() and print() in Python?\n",
    "skillnaden är att input vi matar in någonting för exempel : name = input(\"enter your name\"),\n",
    "print() den printar vad som helst som står i () för exempel : print(\"my name is Mohi).\n",
    "\n",
    "#### b) What data type does the input() function return by default? How can you use it to get numeric input?\n",
    "input har data type (str), om vi vill ha siffror som måste vi lägga funktionen (int,float) innan,\n",
    "för exempel: name = int(input(\"how old are you?:)) output blir då bara siffror.\n",
    "\n",
    "#### c) Explain how formatted string literals (f-strings) improve readability in output statements. Give an example.\n",
    "f-strings underlättar för användare att läsa koden, och gör det enklare att koda str och int.\n",
    "för exempel: x = int(input(enter any number between 1 and 5\")) , print(f\"your number is {x}).\n",
    "\n",
    "#### d) Can a variable change its data type during runtime in Python? Show an example.\n",
    "Ja, variabelar i python är dynamiskt typade, den ändras när man tilldelar ett nytt värde.\n",
    "för exempel: x = 5 , print(type(x)) , x = \"hej\" , print(type(x)).\n",
    "\n",
    "#### e) What does it mean that Python is \"dynamically typed\"? How is that different from statically typed languages?\n",
    "dynamiskt typat betyder att man inte behöver ange datatype när man skapar en variabel, python bestämmer typen automatiskt. (Utifrån värdet).\n",
    "\n",
    "\n",
    "Fill in this table either by copying this into your own markdown file or copy it into a spreadsheet if you feel that is easier to work with.\n",
    "\n",
    "| terminology       | explanation |\n",
    "| ----------------- | ----------- |\n",
    "| data type         |Vilken sorts värde en variabel kan innehålla (t.ex. int, float, str, bool).                 |\n",
    "| variable          |Ett namn som används för att lagra data som kan ändras under programmets körning.           |\n",
    "| assignment        |Tilldelning av ett värde till en variabel med operatorn =.                                  |\n",
    "| dynamically typed |Datatypen bestäms under körning utifrån vilket värde variabeln får (som i Python).          |\n",
    "| input             |Funktion (input()) för att ta emot data från användaren.                                    |\n",
    "| output            |Funktion (print()) för att visa data på skärmen.                                            |\n",
    "| type casting      |Omvandling av en datatyp till en annan (t.ex. int(\"5\")).                                    |\n",
    "| boolean           |Datatyp som representerar sant/falskt: True eller False.                                    |\n",
    "| string            |En sekvens av tecken, skrivs inom citationstecken (\"Hej\").                                  |\n",
    "| f-string          |Formaterad sträng som låter dig lägga in uttryck/variabler: f\"Hej {namn}\".                  |\n",
    "| indentation       |Indrag (mellanslag i början av raden) som markerar kodblock i Python.                       |\n",
    "| convention        |Överenskomna riktlinjer för hur kod ska skrivas (t.ex. variabelnamn i snake_case).          |\n",
    "|                   |             |"
   ]
  }
 ],
 "metadata": {
  "kernelspec": {
   "display_name": ".venv",
   "language": "python",
   "name": "python3"
  },
  "language_info": {
   "codemirror_mode": {
    "name": "ipython",
    "version": 3
   },
   "file_extension": ".py",
   "mimetype": "text/x-python",
   "name": "python",
   "nbconvert_exporter": "python",
   "pygments_lexer": "ipython3",
   "version": "3.12.10"
  }
 },
 "nbformat": 4,
 "nbformat_minor": 5
}
