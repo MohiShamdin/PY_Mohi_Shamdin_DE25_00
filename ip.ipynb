{
 "cells": [
  {
   "cell_type": "code",
   "execution_count": null,
   "id": "bbbefa69",
   "metadata": {},
   "outputs": [],
   "source": [
    "name = \"Naya\"\n",
    "age = 26\n",
    "floaT = 7.7\n",
    "student = False\n",
    "\n",
    "name1= input(\"Enter your name: \")\n",
    "age1= int(input(\"Enter your age: \"))\n",
    "age1= age1 + 1\n",
    "print(f\"Hello {name1} , you are only {age1} years old. :) \")\n",
    "\n",
    "\n",
    "length = float (input(\"Enter the len of a rectangle\"))\n",
    "width = float (input(\"Enter the width of a rectangle\"))\n",
    "height = float (input(\"Enter the height of a rectangle\"))\n",
    "area = length * width\n",
    "print(f\"the hole area of a rectangle is: {area}cm^2\")\n",
    "\n"
   ]
  }
 ],
 "metadata": {
  "language_info": {
   "name": "python"
  }
 },
 "nbformat": 4,
 "nbformat_minor": 5
}
