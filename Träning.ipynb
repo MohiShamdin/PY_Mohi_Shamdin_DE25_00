{
 "cells": [
  {
   "cell_type": "markdown",
   "id": "b9f99e50",
   "metadata": {},
   "source": [
    "# f-strings"
   ]
  },
  {
   "cell_type": "code",
   "execution_count": 16,
   "id": "e8f28792",
   "metadata": {},
   "outputs": [
    {
     "name": "stdout",
     "output_type": "stream",
     "text": [
      "Hello my name is Mohi\n",
      "Mohi 26\n",
      "Hello Mohi nice to meet you, how old are you?\n",
      "Hello Mohi, you are 26, Welcome to python's world.\n"
     ]
    }
   ],
   "source": [
    "print (\"Hello my name is Mohi\")\n",
    "name = \"Mohi\"\n",
    "age = 26\n",
    "print(name , age)\n",
    "print(f\"Hello {name} nice to meet you, how old are you?\")\n",
    "Age_1 = (input(f\"how old are you?\"))\n",
    "print(f\"Hello {name}, you are {Age_1}, Welcome to python's world.\")"
   ]
  },
  {
   "cell_type": "markdown",
   "id": "decca59e",
   "metadata": {},
   "source": [
    "# if statements"
   ]
  },
  {
   "cell_type": "code",
   "execution_count": null,
   "id": "e9177d0b",
   "metadata": {},
   "outputs": [
    {
     "name": "stdout",
     "output_type": "stream",
     "text": [
      "Enjoy this scary movie\n"
     ]
    }
   ],
   "source": [
    "age = int(input(\"enter your age\"))\n",
    "age_limit = 15\n",
    "\n",
    "if age < age_limit:\n",
    "    print(\"sorry u are too young to attend this scary movie\")\n",
    "    print(\"watch cartoon instead\")\n",
    "else:\n",
    "    print(\"Enjoy this scary movie\")\n",
    "######################################################################\n",
    "age = 15\n",
    "height = 150\n",
    "\n",
    "if age > 11 and 130 > height < 210:\n",
    "    print (\"Welcome to roller coaster\")\n",
    "else:\n",
    "    print(\"come back when you fulfill requirements\")\n",
    "    "
   ]
  },
  {
   "cell_type": "markdown",
   "id": "ed2da9c7",
   "metadata": {},
   "source": [
    "## Type()Function"
   ]
  },
  {
   "cell_type": "code",
   "execution_count": null,
   "id": "f9ba8b5d",
   "metadata": {},
   "outputs": [
    {
     "name": "stdout",
     "output_type": "stream",
     "text": [
      "<class 'str'>\n",
      "<class 'int'>\n",
      "<class 'float'>\n",
      "<class 'bool'>\n",
      "26.0\n",
      "<class 'float'>\n",
      "7\n",
      "<class 'int'>\n",
      "1.0\n"
     ]
    }
   ],
   "source": [
    "name = \"Mohi\"\n",
    "age = 26\n",
    "floaT = 7.7\n",
    "student = True\n",
    "######################################################################\n",
    "print(type(name))\n",
    "print(type(age))\n",
    "print(type(floaT))\n",
    "print(type(student))\n",
    "######################################################################\n",
    "age = float(age)\n",
    "print(age)\n",
    "print(type(age))\n",
    "######################################################################\n",
    "floaT = int(floaT)\n",
    "print(floaT)\n",
    "print(type(floaT))\n",
    "#same for (str , boolean)\n",
    "######################################################################\n",
    "x = 2\n",
    "y = 2.0\n",
    "x = x / y\n",
    "print(x)\n",
    "######################################################################\n"
   ]
  },
  {
   "cell_type": "markdown",
   "id": "750853ee",
   "metadata": {},
   "source": [
    "# input"
   ]
  },
  {
   "cell_type": "code",
   "execution_count": null,
   "id": "3e750e0e",
   "metadata": {},
   "outputs": [
    {
     "name": "stdout",
     "output_type": "stream",
     "text": [
      "Mohi Hello dude :) \n",
      "you are 27 years old\n"
     ]
    }
   ],
   "source": [
    "name = input(\"Enter your name:\")\n",
    "age = int(input (\"Enter your age:\"))\n",
    "#same for float\n",
    "age = age + 1\n",
    "#age = int(age)\n",
    "print(f\"{name} Hello dude :) \")\n",
    "print(f\"you are {age} years old\")\n",
    "\n"
   ]
  },
  {
   "cell_type": "markdown",
   "id": "745a693d",
   "metadata": {},
   "source": [
    "# Mad libs game"
   ]
  },
  {
   "cell_type": "code",
   "execution_count": 24,
   "id": "227f642f",
   "metadata": {},
   "outputs": [
    {
     "name": "stdout",
     "output_type": "stream",
     "text": [
      "Today i went to a sus zoo.\n",
      "In an exhibit, I saw Mohi\n",
      "Mohi was berserk and screeching\n",
      "I was amazed\n"
     ]
    }
   ],
   "source": [
    "adjective1 = input(\"Enter an adjective: \")\n",
    "noun = input(\"Enter an noun: \")\n",
    "adjective2 = input(\"Enter an adjective: \")\n",
    "verb = input(\"Enter an verb: \")\n",
    "adjective3 = input(\"Enter an adjective: \")\n",
    "print(f\"Today i went to a {adjective1} zoo.\")\n",
    "print(f\"In an exhibit, I saw {noun}\")\n",
    "print(f\"{noun} was {adjective2} and {verb}ing\")\n",
    "print(f\"I was {adjective3}\")"
   ]
  },
  {
   "cell_type": "markdown",
   "id": "a6719ccf",
   "metadata": {},
   "source": [
    "# Shopping cart programs"
   ]
  },
  {
   "cell_type": "code",
   "execution_count": 7,
   "id": "6ceae841",
   "metadata": {},
   "outputs": [
    {
     "name": "stdout",
     "output_type": "stream",
     "text": [
      "You have bought 3 x burger/s\n",
      "your total price is: $17.97\n"
     ]
    }
   ],
   "source": [
    "items = input(\"What items would you like to buy?: \")\n",
    "price = float (input(\"what is the price?:\"))\n",
    "quantity = int (input(\"How many would you like?:\"))\n",
    "total = price * quantity\n",
    "print(f\"You have bought {quantity} x {items}/s\")\n",
    "print(f\"your total price is: ${round(total, 2)}\")"
   ]
  },
  {
   "cell_type": "code",
   "execution_count": null,
   "id": "3592d62c",
   "metadata": {},
   "outputs": [
    {
     "name": "stdout",
     "output_type": "stream",
     "text": [
      "Area of triangle: 12.0\n"
     ]
    }
   ],
   "source": []
  },
  {
   "cell_type": "markdown",
   "id": "8e3b5ca7",
   "metadata": {},
   "source": [
    "# Math in python\n",
    "## arithmetic operators"
   ]
  },
  {
   "cell_type": "code",
   "execution_count": null,
   "id": "ebafda76",
   "metadata": {},
   "outputs": [
    {
     "name": "stdout",
     "output_type": "stream",
     "text": [
      "36\n"
     ]
    }
   ],
   "source": [
    "boys = 5\n",
    "#boys = boys + 1\n",
    "boys += 1         #addition\n",
    "#boys = boys - 1\n",
    "#boys -= 1         #subtraction\n",
    "#boys = boys * 1\n",
    "#boys *= 1         #multipication\n",
    "#boys = boys / 1\n",
    "#boys /= 1         #divion\n",
    "boys = boys ** 2\n",
    "boys **= 2         #exponentiation\n",
    "remainder = friends % 2          #modulus\n",
    "\n",
    "print(boys)"
   ]
  },
  {
   "cell_type": "markdown",
   "id": "21b4deb6",
   "metadata": {},
   "source": [
    "## build in function"
   ]
  },
  {
   "cell_type": "code",
   "execution_count": null,
   "id": "26d27ef4",
   "metadata": {},
   "outputs": [],
   "source": [
    "x = 3.14\n",
    "y = 4\n",
    "z = 5\n",
    " \n",
    "#result = round (x , 2) # ta bort några av dicimal (du väljer hur många)\n",
    "#result = abs (y) # ta bort tecken (-)\n",
    "#result = pow (4,3) 4x4x4\n",
    "#result = max (x,y,z) # visar högsta nummer (5)\n",
    "result = min (x,y,z) # visar minsta nummer (3.14)\n",
    "print(result)"
   ]
  },
  {
   "cell_type": "markdown",
   "id": "41dad3df",
   "metadata": {},
   "source": [
    "## math module"
   ]
  },
  {
   "cell_type": "code",
   "execution_count": null,
   "id": "06b007fb",
   "metadata": {},
   "outputs": [],
   "source": [
    "import math\n",
    "\n",
    "math.py\n",
    "print(math.pi) # pi is 3.14\n",
    "print(math.e) # e is 2.71 (exponential constant)\n",
    "x = 9.1\n",
    "result = math.sqrt(x) # square root\n",
    "result = math.ceil(x) # output will be 10 (round a floationg number up)\n",
    "result = math.floor(x) # output will be 9 (round a floationg number down)\n",
    "print(result)"
   ]
  },
  {
   "cell_type": "markdown",
   "id": "777f8eb0",
   "metadata": {},
   "source": [
    "## Area calc"
   ]
  },
  {
   "cell_type": "code",
   "execution_count": null,
   "id": "8b4970ae",
   "metadata": {},
   "outputs": [],
   "source": [
    "length = float (input (\"Enter the length of a rectangle: \"))\n",
    "width = float (input (\"Enter the width of a rectangle: \"))\n",
    "height = float (input (\"Enter the height of a rectangle: \"))\n",
    "area = length * width\n",
    "print(f\"the area is: {area}cm^2\")\n",
    "# Extra\n",
    "volume = length * width * height\n",
    "print(f\"the volume is: {volume}cm^3\")"
   ]
  },
  {
   "cell_type": "markdown",
   "id": "eb4c8649",
   "metadata": {},
   "source": [
    "## Rectangle calc"
   ]
  },
  {
   "cell_type": "code",
   "execution_count": null,
   "id": "66de5d83",
   "metadata": {},
   "outputs": [],
   "source": [
    "length = 5\n",
    "width = 3\n",
    "area = length * width\n",
    "print(\"Area of rectangle:\", area)\n",
    "# Output: 15"
   ]
  },
  {
   "cell_type": "markdown",
   "id": "95cc5347",
   "metadata": {},
   "source": [
    "## Triangle clac"
   ]
  },
  {
   "cell_type": "code",
   "execution_count": null,
   "id": "400786c9",
   "metadata": {},
   "outputs": [],
   "source": [
    "base = 6\n",
    "height = 4\n",
    "area = 0.5 * base * height\n",
    "print(\"Area of triangle:\", area)\n",
    "# Output: 12.0"
   ]
  },
  {
   "cell_type": "markdown",
   "id": "18d117a0",
   "metadata": {},
   "source": [
    "## Circumference of a circle"
   ]
  },
  {
   "cell_type": "code",
   "execution_count": null,
   "id": "4dcc01a4",
   "metadata": {},
   "outputs": [],
   "source": [
    "import math\n",
    "radius = float(input(\"enter tthe radius of a circle: \"))\n",
    "circumference = 2 * math.pi * radius\n",
    "print(f\"the circumference is: {round(circumference)}cm\")"
   ]
  },
  {
   "cell_type": "markdown",
   "id": "da4b66a0",
   "metadata": {},
   "source": [
    "## Radius clac"
   ]
  },
  {
   "cell_type": "code",
   "execution_count": null,
   "id": "a35cda57",
   "metadata": {},
   "outputs": [],
   "source": [
    "import math\n",
    "radius = 4\n",
    "area = math.pi * (radius ** 2)\n",
    "print(\"Area of circle:\", area)\n",
    "# Output: 50.265..."
   ]
  },
  {
   "cell_type": "markdown",
   "id": "ed8b7ae4",
   "metadata": {},
   "source": [
    "## Area of a circle"
   ]
  },
  {
   "cell_type": "code",
   "execution_count": null,
   "id": "8a9ae3b5",
   "metadata": {},
   "outputs": [],
   "source": [
    "import math\n",
    "\n",
    "radius = float(input(\"enter tthe radius of a circle: \"))\n",
    "area = math.pi * pow(radius , 2)\n",
    "print(f\"the area of the circle is : {round(area , 2)}cm^2\")"
   ]
  },
  {
   "cell_type": "markdown",
   "id": "4b1cd5f9",
   "metadata": {},
   "source": [
    "## hypotenuse of a right triangle"
   ]
  },
  {
   "cell_type": "code",
   "execution_count": 23,
   "id": "13c4ecb3",
   "metadata": {},
   "outputs": [
    {
     "name": "stdout",
     "output_type": "stream",
     "text": [
      "side C = 5.0\n"
     ]
    }
   ],
   "source": [
    "import math\n",
    "a = float (input (\"Enter the length of side A:\"))\n",
    "b = float (input (\"Enter the length of side B:\"))\n",
    "c = math.sqrt(a**2 + b**2)\n",
    "print(f\"side C = {c}\")"
   ]
  },
  {
   "cell_type": "code",
   "execution_count": null,
   "id": "32d0120c",
   "metadata": {},
   "outputs": [],
   "source": [
    "import time\n",
    "print(\"Loading...\", end=\"\", flush=True)\n",
    "time.sleep(1)\n",
    "print(\" Done!\")"
   ]
  }
 ],
 "metadata": {
  "kernelspec": {
   "display_name": ".venv",
   "language": "python",
   "name": "python3"
  },
  "language_info": {
   "codemirror_mode": {
    "name": "ipython",
    "version": 3
   },
   "file_extension": ".py",
   "mimetype": "text/x-python",
   "name": "python",
   "nbconvert_exporter": "python",
   "pygments_lexer": "ipython3",
   "version": "3.12.10"
  }
 },
 "nbformat": 4,
 "nbformat_minor": 5
}
